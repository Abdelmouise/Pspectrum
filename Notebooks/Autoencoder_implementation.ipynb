{
 "cells": [
  {
   "cell_type": "code",
   "execution_count": 11,
   "metadata": {},
   "outputs": [],
   "source": [
    "import numpy as np\n",
    "from scipy.stats import ortho_group  # Requires version 0.18 of scipy\n",
    "from numpy import linalg as LA\n",
    "import pandas as pd\n",
    "import matplotlib.pyplot as plt\n",
    "import warnings\n",
    "warnings.filterwarnings('ignore')\n",
    "%matplotlib inline\n",
    "from pyRMT import optimalShrinkage"
   ]
  },
  {
   "cell_type": "markdown",
   "metadata": {},
   "source": [
    "# I - Introduction"
   ]
  },
  {
   "cell_type": "markdown",
   "metadata": {},
   "source": [
    "# II - Definition and detection of the problem"
   ]
  },
  {
   "cell_type": "markdown",
   "metadata": {},
   "source": [
    "## 1 - Create a random correlation Matrix with specific eigen values"
   ]
  },
  {
   "cell_type": "code",
   "execution_count": 4,
   "metadata": {},
   "outputs": [],
   "source": [
    "# normalization of the eigenvalues to have a trace(Matrix) = n, with n is the  size of the matrix ()\n",
    "#  => because the correlation matrix trace remains invariant by the diagonalization\n",
    "\n",
    "def normalaized_eigenvalues (input_eigenvalues):\n",
    "    n = len(input_eigenvalues)\n",
    "    return  n * input_eigenvalues / np.sum(input_eigenvalues)\n",
    "\n",
    "# generate a random symmetric matrix with specific eigenvalues\n",
    "def generate_wge(eigenvalues):\n",
    "    n = len(eigenvalues)\n",
    "    ortho_matrix = ortho_group.rvs(dim=n)\n",
    "    diag_matrix = np.diag(eigenvalues)\n",
    "    return ortho_matrix.T.dot(diag_matrix).dot(ortho_matrix)\n",
    "\n",
    "# Givens rotation,it will be used to transform the matrix in generate_corr_wse function, to have 1's in diagonal\n",
    "\n",
    "def givens(M, i, j):\n",
    "    G = M\n",
    "    Mii, Mij, Mjj = M[i,i], M[i,j], M[j,j]\n",
    "    t = (Mij + np.sqrt(Mij**2 - (Mii-1)*(Mjj-1))) /(Mjj - 1)\n",
    "    c = 1. / np.sqrt(1+t**2)\n",
    "    s = c*t\n",
    "    Mi, Mj = M[i], M[j]\n",
    "    G[i], G[j] = c*Mi - s*Mj, s*Mi + c*Mj\n",
    "    Mi, Mj = G[:,i], G[:,j]\n",
    "    G[:,i], G[:,j] = c*Mi - s*Mj, s*Mi + c*Mj\n",
    "    return G\n",
    "    \n",
    "def generate_corr_wse(eigs):\n",
    "    n = len(eigs)\n",
    "    eigen = normalaized_eigenvalues (eigs)\n",
    "    corr = generate_wge(eigen)\n",
    "    precision = 0.01\n",
    "    converg = 0\n",
    "    i = 0\n",
    "    while(not converg):\n",
    "        vec = np.diagonal(corr)\n",
    "        if np.sum(abs(vec-1)>precision)==0:\n",
    "            converg = 1\n",
    "        else:\n",
    "            bigger = np.arange(len(vec))[(vec>1)]\n",
    "            smaller = np.arange(len(vec))[(vec<1)]\n",
    "            i,j = smaller[0], bigger[-1]\n",
    "            if i>j:\n",
    "                i,j = bigger[0], smaller[-1]\n",
    "            corr = givens(corr, i, j)\n",
    "            corr[i,i]=1\n",
    "    return corr\n",
    "def get_random_eigen_values (min,max,size):\n",
    "     return np.random.randint(min,max,size)"
   ]
  },
  {
   "cell_type": "markdown",
   "metadata": {},
   "source": [
    "## 2- Some Tests "
   ]
  },
  {
   "cell_type": "code",
   "execution_count": 5,
   "metadata": {},
   "outputs": [
    {
     "data": {
      "text/plain": [
       "array([[ 1.52098741, -0.01650952, -0.54064977],\n",
       "       [-0.01650952,  2.75162051, -0.52256531],\n",
       "       [-0.54064977, -0.52256531,  1.72739207]])"
      ]
     },
     "execution_count": 5,
     "metadata": {},
     "output_type": "execute_result"
    }
   ],
   "source": [
    "# Generate a symmetric matrix with specific eigen values\n",
    "a = generate_wge([1,2,3])\n",
    "a"
   ]
  },
  {
   "cell_type": "code",
   "execution_count": 29,
   "metadata": {},
   "outputs": [
    {
     "data": {
      "text/plain": [
       "array([3., 2., 1.])"
      ]
     },
     "execution_count": 29,
     "metadata": {},
     "output_type": "execute_result"
    }
   ],
   "source": [
    "# diagonalized matrix\n",
    "LA.eig(a)[0]"
   ]
  },
  {
   "cell_type": "code",
   "execution_count": 32,
   "metadata": {},
   "outputs": [
    {
     "name": "stdout",
     "output_type": "stream",
     "text": [
      " normalized eigenvalues are :  [1.25 1.   0.75]\n"
     ]
    }
   ],
   "source": [
    "a = generate_corr_wse(np.array([5,4,3]))"
   ]
  },
  {
   "cell_type": "code",
   "execution_count": 33,
   "metadata": {},
   "outputs": [
    {
     "data": {
      "text/plain": [
       "array([0.75, 1.25, 1.  ])"
      ]
     },
     "execution_count": 33,
     "metadata": {},
     "output_type": "execute_result"
    }
   ],
   "source": [
    "LA.eig(a)[0]"
   ]
  },
  {
   "cell_type": "code",
   "execution_count": 6,
   "metadata": {},
   "outputs": [
    {
     "data": {
      "text/plain": [
       "array([[ 1.15421881,  0.16978329, -0.39745177],\n",
       "       [ 0.16978329,  2.05708533,  0.37799851],\n",
       "       [-0.39745177,  0.37799851,  2.78869585]])"
      ]
     },
     "execution_count": 6,
     "metadata": {},
     "output_type": "execute_result"
    }
   ],
   "source": [
    "generate_wge([1,2,3])"
   ]
  },
  {
   "cell_type": "code",
   "execution_count": 7,
   "metadata": {},
   "outputs": [
    {
     "data": {
      "text/plain": [
       "array([[ 1.00000000e+00, -6.10622664e-16, -9.60435774e-02],\n",
       "       [-7.07767178e-16,  1.00000000e+00, -2.30815145e-01],\n",
       "       [-9.60435774e-02, -2.30815145e-01,  1.00000000e+00]])"
      ]
     },
     "execution_count": 7,
     "metadata": {},
     "output_type": "execute_result"
    }
   ],
   "source": [
    "a = generate_corr_wse(np.array([5,4,3]))\n",
    "a"
   ]
  },
  {
   "cell_type": "code",
   "execution_count": 8,
   "metadata": {},
   "outputs": [
    {
     "data": {
      "text/plain": [
       "array([[ 1.00000000e+00,  5.27355937e-16,  8.73288753e-01],\n",
       "       [ 5.27355937e-16,  1.00000000e+00, -4.87202990e-01],\n",
       "       [ 8.73288753e-01, -4.87202990e-01,  1.00000000e+00]])"
      ]
     },
     "execution_count": 8,
     "metadata": {},
     "output_type": "execute_result"
    }
   ],
   "source": [
    "generate_corr_wse(get_random_eigen_values (0,10,3))"
   ]
  },
  {
   "cell_type": "markdown",
   "metadata": {},
   "source": [
    "## 3- Simalting Data from a correlation Matrix "
   ]
  },
  {
   "cell_type": "code",
   "execution_count": 19,
   "metadata": {},
   "outputs": [],
   "source": [
    "def generate_data (correlation_matrix , ration_q):\n",
    "    \n",
    "    # q = variables / observations\n",
    "    num_variables = correlation_matrix.shape[0]\n",
    "    \n",
    "    num_samples = int(num_variables//q)\n",
    "    # starting with mean = 0 \n",
    "    mu = np.zeros(num_variables)\n",
    "    y = np.random.multivariate_normal(mu, correlation_matrix, size=num_samples)\n",
    "    df = pd.DataFrame(y)\n",
    "    return df\n",
    "def get_data_sample(data, q):\n",
    "    return data.sample(int(data.shape[1]//q))"
   ]
  },
  {
   "cell_type": "markdown",
   "metadata": {},
   "source": [
    "## 4-reproduction of the problem for a Dataframe with 180 variables with different values of q"
   ]
  },
  {
   "cell_type": "code",
   "execution_count": 17,
   "metadata": {},
   "outputs": [],
   "source": [
    "Number_variables = 180\n",
    "q = 0.1\n",
    "eigen_values = normalaized_eigenvalues(get_random_eigen_values (0,10,Number_variables))\n",
    "r = generate_corr_wse(eigen_values)"
   ]
  },
  {
   "cell_type": "code",
   "execution_count": 20,
   "metadata": {},
   "outputs": [],
   "source": [
    "data = generate_data (r , 0.001)"
   ]
  },
  {
   "cell_type": "code",
   "execution_count": 21,
   "metadata": {},
   "outputs": [],
   "source": [
    "data_01 = get_data_sample(data, 0.1) # q = 0.1\n",
    "data_1 = get_data_sample(data, 1)   # q = 1\n",
    "data_2 = get_data_sample(data, 2)   # q = 2 "
   ]
  },
  {
   "cell_type": "code",
   "execution_count": 95,
   "metadata": {},
   "outputs": [],
   "source": [
    "# comuting spectrum for different samples \n",
    "\n",
    "x =  np.array(range(1, Number_variables+1))\n",
    "\n",
    "spectrum =  LA.eig(data.corr().to_numpy())[0]\n",
    "spectrum.sort()\n",
    "spectrum = spectrum[::-1]\n",
    "\n",
    "spectrum_01 =  LA.eig(data_01.corr().to_numpy())[0]\n",
    "spectrum_01.sort()\n",
    "spectrum_01 = spectrum_01[::-1]\n",
    "\n",
    "spectrum_1 =  LA.eig(data_1.corr().to_numpy())[0]\n",
    "spectrum_1.sort()\n",
    "spectrum_1 = spectrum_1[::-1]\n",
    "\n",
    "spectrum_2 =  LA.eig(data_2.corr().to_numpy())[0]\n",
    "spectrum_2.sort()\n",
    "spectrum_2 = spectrum_2[::-1]\n"
   ]
  },
  {
   "cell_type": "code",
   "execution_count": 102,
   "metadata": {},
   "outputs": [
    {
     "data": {
      "text/plain": [
       "<matplotlib.legend.Legend at 0x17af85e4128>"
      ]
     },
     "execution_count": 102,
     "metadata": {},
     "output_type": "execute_result"
    },
    {
     "data": {
      "image/png": "[encoded data removed]",
      "text/plain": [
       "<Figure size 720x576 with 1 Axes>"
      ]
     },
     "metadata": {},
     "output_type": "display_data"
    }
   ],
   "source": [
    "plt.figure(figsize=(10,8))\n",
    "plt.plot(x, spectrum, linestyle='-',label = 'q = 0.001')  \n",
    "plt.plot(x, spectrum_01, linestyle='--',label = 'q = 0.1')  \n",
    "plt.plot(x, spectrum_1, linestyle='-.',label = 'q = 1')  \n",
    "plt.plot(x, spectrum_2, linestyle=':',label = 'q = 2')  \n",
    "\n",
    "plt.title(\"Spectrum for different q = variables / observations \")\n",
    "plt.xlabel(\"index of the eigen value\")\n",
    "plt.ylabel(\"Eigenvalues\")\n",
    "\n",
    "plt.legend()"
   ]
  },
  {
   "cell_type": "markdown",
   "metadata": {},
   "source": [
    "<mark>Problem well detected !!  => overestimation for the largest eigenvalues, and underetismations for the smallest eigenvalues<mark> "
   ]
  },
  {
   "cell_type": "markdown",
   "metadata": {},
   "source": [
    "# III-Models"
   ]
  },
  {
   "cell_type": "markdown",
   "metadata": {},
   "source": [
    "## 1- Optimal Rotational Invariant Estimator ()"
   ]
  },
  {
   "cell_type": "code",
   "execution_count": 24,
   "metadata": {},
   "outputs": [
    {
     "data": {
      "text/html": [
       "<div>\n",
       "<style scoped>\n",
       "    .dataframe tbody tr th:only-of-type {\n",
       "        vertical-align: middle;\n",
       "    }\n",
       "\n",
       "    .dataframe tbody tr th {\n",
       "        vertical-align: top;\n",
       "    }\n",
       "\n",
       "    .dataframe thead th {\n",
       "        text-align: right;\n",
       "    }\n",
       "</style>\n",
       "<table border=\"1\" class=\"dataframe\">\n",
       "  <thead>\n",
       "    <tr style=\"text-align: right;\">\n",
       "      <th></th>\n",
       "      <th>0</th>\n",
       "      <th>1</th>\n",
       "      <th>2</th>\n",
       "      <th>3</th>\n",
       "      <th>4</th>\n",
       "      <th>5</th>\n",
       "      <th>6</th>\n",
       "      <th>7</th>\n",
       "      <th>8</th>\n",
       "      <th>9</th>\n",
       "      <th>...</th>\n",
       "      <th>170</th>\n",
       "      <th>171</th>\n",
       "      <th>172</th>\n",
       "      <th>173</th>\n",
       "      <th>174</th>\n",
       "      <th>175</th>\n",
       "      <th>176</th>\n",
       "      <th>177</th>\n",
       "      <th>178</th>\n",
       "      <th>179</th>\n",
       "    </tr>\n",
       "  </thead>\n",
       "  <tbody>\n",
       "    <tr>\n",
       "      <th>1548</th>\n",
       "      <td>0.446818</td>\n",
       "      <td>-1.017664</td>\n",
       "      <td>-1.139425</td>\n",
       "      <td>0.809471</td>\n",
       "      <td>-0.093025</td>\n",
       "      <td>-0.080122</td>\n",
       "      <td>2.574357</td>\n",
       "      <td>1.385102</td>\n",
       "      <td>-0.068560</td>\n",
       "      <td>-0.508273</td>\n",
       "      <td>...</td>\n",
       "      <td>-0.410773</td>\n",
       "      <td>1.653515</td>\n",
       "      <td>0.353922</td>\n",
       "      <td>1.736217</td>\n",
       "      <td>-0.719906</td>\n",
       "      <td>0.153589</td>\n",
       "      <td>0.442005</td>\n",
       "      <td>0.535809</td>\n",
       "      <td>0.273673</td>\n",
       "      <td>0.159906</td>\n",
       "    </tr>\n",
       "    <tr>\n",
       "      <th>820</th>\n",
       "      <td>-0.031884</td>\n",
       "      <td>-1.317549</td>\n",
       "      <td>-1.128652</td>\n",
       "      <td>-0.624304</td>\n",
       "      <td>0.948433</td>\n",
       "      <td>-0.944735</td>\n",
       "      <td>0.987612</td>\n",
       "      <td>-0.410877</td>\n",
       "      <td>-1.395262</td>\n",
       "      <td>1.259741</td>\n",
       "      <td>...</td>\n",
       "      <td>-1.222305</td>\n",
       "      <td>0.665944</td>\n",
       "      <td>-0.184437</td>\n",
       "      <td>-1.679526</td>\n",
       "      <td>0.928825</td>\n",
       "      <td>-0.541012</td>\n",
       "      <td>0.845984</td>\n",
       "      <td>0.605799</td>\n",
       "      <td>-1.361943</td>\n",
       "      <td>1.435279</td>\n",
       "    </tr>\n",
       "    <tr>\n",
       "      <th>819</th>\n",
       "      <td>0.636622</td>\n",
       "      <td>0.552111</td>\n",
       "      <td>0.366118</td>\n",
       "      <td>1.027962</td>\n",
       "      <td>0.333266</td>\n",
       "      <td>0.608111</td>\n",
       "      <td>-1.958251</td>\n",
       "      <td>-2.833011</td>\n",
       "      <td>0.202222</td>\n",
       "      <td>-0.197528</td>\n",
       "      <td>...</td>\n",
       "      <td>-0.636105</td>\n",
       "      <td>0.674961</td>\n",
       "      <td>-0.836353</td>\n",
       "      <td>1.906387</td>\n",
       "      <td>-0.977020</td>\n",
       "      <td>-0.502659</td>\n",
       "      <td>-0.510683</td>\n",
       "      <td>-2.795314</td>\n",
       "      <td>1.284818</td>\n",
       "      <td>0.718752</td>\n",
       "    </tr>\n",
       "    <tr>\n",
       "      <th>756</th>\n",
       "      <td>1.536564</td>\n",
       "      <td>-0.296977</td>\n",
       "      <td>0.474794</td>\n",
       "      <td>0.130100</td>\n",
       "      <td>1.603302</td>\n",
       "      <td>0.194492</td>\n",
       "      <td>-0.161750</td>\n",
       "      <td>0.741803</td>\n",
       "      <td>-0.126814</td>\n",
       "      <td>-0.455427</td>\n",
       "      <td>...</td>\n",
       "      <td>-0.162078</td>\n",
       "      <td>-0.057744</td>\n",
       "      <td>-1.624589</td>\n",
       "      <td>0.918340</td>\n",
       "      <td>-0.647019</td>\n",
       "      <td>-0.966120</td>\n",
       "      <td>1.416387</td>\n",
       "      <td>0.544367</td>\n",
       "      <td>1.458158</td>\n",
       "      <td>1.569224</td>\n",
       "    </tr>\n",
       "    <tr>\n",
       "      <th>595</th>\n",
       "      <td>-0.865721</td>\n",
       "      <td>1.956983</td>\n",
       "      <td>-0.431409</td>\n",
       "      <td>0.233169</td>\n",
       "      <td>0.371796</td>\n",
       "      <td>-0.875772</td>\n",
       "      <td>1.882688</td>\n",
       "      <td>2.543469</td>\n",
       "      <td>-0.190630</td>\n",
       "      <td>0.181384</td>\n",
       "      <td>...</td>\n",
       "      <td>1.568500</td>\n",
       "      <td>0.501574</td>\n",
       "      <td>0.239746</td>\n",
       "      <td>0.870037</td>\n",
       "      <td>-0.109799</td>\n",
       "      <td>0.117708</td>\n",
       "      <td>0.268306</td>\n",
       "      <td>-0.038237</td>\n",
       "      <td>1.054207</td>\n",
       "      <td>-0.949317</td>\n",
       "    </tr>\n",
       "    <tr>\n",
       "      <th>...</th>\n",
       "      <td>...</td>\n",
       "      <td>...</td>\n",
       "      <td>...</td>\n",
       "      <td>...</td>\n",
       "      <td>...</td>\n",
       "      <td>...</td>\n",
       "      <td>...</td>\n",
       "      <td>...</td>\n",
       "      <td>...</td>\n",
       "      <td>...</td>\n",
       "      <td>...</td>\n",
       "      <td>...</td>\n",
       "      <td>...</td>\n",
       "      <td>...</td>\n",
       "      <td>...</td>\n",
       "      <td>...</td>\n",
       "      <td>...</td>\n",
       "      <td>...</td>\n",
       "      <td>...</td>\n",
       "      <td>...</td>\n",
       "      <td>...</td>\n",
       "    </tr>\n",
       "    <tr>\n",
       "      <th>1144</th>\n",
       "      <td>-0.666467</td>\n",
       "      <td>0.889926</td>\n",
       "      <td>-0.156995</td>\n",
       "      <td>0.287133</td>\n",
       "      <td>0.800295</td>\n",
       "      <td>-0.601447</td>\n",
       "      <td>-1.369385</td>\n",
       "      <td>-0.659298</td>\n",
       "      <td>-0.860517</td>\n",
       "      <td>-0.578895</td>\n",
       "      <td>...</td>\n",
       "      <td>-1.623749</td>\n",
       "      <td>-0.585582</td>\n",
       "      <td>0.265389</td>\n",
       "      <td>-0.744973</td>\n",
       "      <td>0.054744</td>\n",
       "      <td>-1.298545</td>\n",
       "      <td>1.948239</td>\n",
       "      <td>0.317150</td>\n",
       "      <td>0.444983</td>\n",
       "      <td>-0.657196</td>\n",
       "    </tr>\n",
       "    <tr>\n",
       "      <th>20</th>\n",
       "      <td>0.395232</td>\n",
       "      <td>-0.881779</td>\n",
       "      <td>0.477222</td>\n",
       "      <td>-2.259656</td>\n",
       "      <td>0.206559</td>\n",
       "      <td>1.155232</td>\n",
       "      <td>0.570999</td>\n",
       "      <td>-0.903828</td>\n",
       "      <td>-1.908207</td>\n",
       "      <td>-0.520393</td>\n",
       "      <td>...</td>\n",
       "      <td>0.065902</td>\n",
       "      <td>-1.386422</td>\n",
       "      <td>0.310233</td>\n",
       "      <td>0.175546</td>\n",
       "      <td>-0.135664</td>\n",
       "      <td>-1.108503</td>\n",
       "      <td>-0.556097</td>\n",
       "      <td>-0.555859</td>\n",
       "      <td>0.772028</td>\n",
       "      <td>2.070498</td>\n",
       "    </tr>\n",
       "    <tr>\n",
       "      <th>1237</th>\n",
       "      <td>0.736742</td>\n",
       "      <td>-0.621179</td>\n",
       "      <td>-0.005321</td>\n",
       "      <td>0.193313</td>\n",
       "      <td>-0.582153</td>\n",
       "      <td>0.705279</td>\n",
       "      <td>-0.175475</td>\n",
       "      <td>-0.658281</td>\n",
       "      <td>0.654692</td>\n",
       "      <td>-0.992716</td>\n",
       "      <td>...</td>\n",
       "      <td>0.126438</td>\n",
       "      <td>2.028569</td>\n",
       "      <td>0.116441</td>\n",
       "      <td>-0.012964</td>\n",
       "      <td>-1.270488</td>\n",
       "      <td>0.463892</td>\n",
       "      <td>-0.560994</td>\n",
       "      <td>0.262002</td>\n",
       "      <td>0.832064</td>\n",
       "      <td>0.424645</td>\n",
       "    </tr>\n",
       "    <tr>\n",
       "      <th>1399</th>\n",
       "      <td>-0.157719</td>\n",
       "      <td>-1.047366</td>\n",
       "      <td>-1.186342</td>\n",
       "      <td>0.129948</td>\n",
       "      <td>-0.090044</td>\n",
       "      <td>-0.192167</td>\n",
       "      <td>1.481305</td>\n",
       "      <td>-1.608023</td>\n",
       "      <td>-1.285507</td>\n",
       "      <td>0.519017</td>\n",
       "      <td>...</td>\n",
       "      <td>1.468693</td>\n",
       "      <td>-0.942189</td>\n",
       "      <td>-0.953115</td>\n",
       "      <td>0.799349</td>\n",
       "      <td>0.382941</td>\n",
       "      <td>0.160759</td>\n",
       "      <td>-1.184224</td>\n",
       "      <td>-1.324968</td>\n",
       "      <td>-0.477314</td>\n",
       "      <td>-0.314100</td>\n",
       "    </tr>\n",
       "    <tr>\n",
       "      <th>618</th>\n",
       "      <td>-1.227196</td>\n",
       "      <td>-0.366574</td>\n",
       "      <td>-1.168778</td>\n",
       "      <td>-0.215115</td>\n",
       "      <td>0.095590</td>\n",
       "      <td>0.718488</td>\n",
       "      <td>-0.757316</td>\n",
       "      <td>0.325826</td>\n",
       "      <td>-1.525531</td>\n",
       "      <td>1.110707</td>\n",
       "      <td>...</td>\n",
       "      <td>0.371033</td>\n",
       "      <td>-0.642890</td>\n",
       "      <td>-1.162647</td>\n",
       "      <td>0.603153</td>\n",
       "      <td>-1.536742</td>\n",
       "      <td>2.061987</td>\n",
       "      <td>-0.800639</td>\n",
       "      <td>0.519276</td>\n",
       "      <td>-0.269930</td>\n",
       "      <td>1.053904</td>\n",
       "    </tr>\n",
       "  </tbody>\n",
       "</table>\n",
       "<p>90 rows × 180 columns</p>\n",
       "</div>"
      ],
      "text/plain": [
       "           0         1         2         3         4         5         6    \\\n",
       "1548  0.446818 -1.017664 -1.139425  0.809471 -0.093025 -0.080122  2.574357   \n",
       "820  -0.031884 -1.317549 -1.128652 -0.624304  0.948433 -0.944735  0.987612   \n",
       "819   0.636622  0.552111  0.366118  1.027962  0.333266  0.608111 -1.958251   \n",
       "756   1.536564 -0.296977  0.474794  0.130100  1.603302  0.194492 -0.161750   \n",
       "595  -0.865721  1.956983 -0.431409  0.233169  0.371796 -0.875772  1.882688   \n",
       "...        ...       ...       ...       ...       ...       ...       ...   \n",
       "1144 -0.666467  0.889926 -0.156995  0.287133  0.800295 -0.601447 -1.369385   \n",
       "20    0.395232 -0.881779  0.477222 -2.259656  0.206559  1.155232  0.570999   \n",
       "1237  0.736742 -0.621179 -0.005321  0.193313 -0.582153  0.705279 -0.175475   \n",
       "1399 -0.157719 -1.047366 -1.186342  0.129948 -0.090044 -0.192167  1.481305   \n",
       "618  -1.227196 -0.366574 -1.168778 -0.215115  0.095590  0.718488 -0.757316   \n",
       "\n",
       "           7         8         9    ...       170       171       172  \\\n",
       "1548  1.385102 -0.068560 -0.508273  ... -0.410773  1.653515  0.353922   \n",
       "820  -0.410877 -1.395262  1.259741  ... -1.222305  0.665944 -0.184437   \n",
       "819  -2.833011  0.202222 -0.197528  ... -0.636105  0.674961 -0.836353   \n",
       "756   0.741803 -0.126814 -0.455427  ... -0.162078 -0.057744 -1.624589   \n",
       "595   2.543469 -0.190630  0.181384  ...  1.568500  0.501574  0.239746   \n",
       "...        ...       ...       ...  ...       ...       ...       ...   \n",
       "1144 -0.659298 -0.860517 -0.578895  ... -1.623749 -0.585582  0.265389   \n",
       "20   -0.903828 -1.908207 -0.520393  ...  0.065902 -1.386422  0.310233   \n",
       "1237 -0.658281  0.654692 -0.992716  ...  0.126438  2.028569  0.116441   \n",
       "1399 -1.608023 -1.285507  0.519017  ...  1.468693 -0.942189 -0.953115   \n",
       "618   0.325826 -1.525531  1.110707  ...  0.371033 -0.642890 -1.162647   \n",
       "\n",
       "           173       174       175       176       177       178       179  \n",
       "1548  1.736217 -0.719906  0.153589  0.442005  0.535809  0.273673  0.159906  \n",
       "820  -1.679526  0.928825 -0.541012  0.845984  0.605799 -1.361943  1.435279  \n",
       "819   1.906387 -0.977020 -0.502659 -0.510683 -2.795314  1.284818  0.718752  \n",
       "756   0.918340 -0.647019 -0.966120  1.416387  0.544367  1.458158  1.569224  \n",
       "595   0.870037 -0.109799  0.117708  0.268306 -0.038237  1.054207 -0.949317  \n",
       "...        ...       ...       ...       ...       ...       ...       ...  \n",
       "1144 -0.744973  0.054744 -1.298545  1.948239  0.317150  0.444983 -0.657196  \n",
       "20    0.175546 -0.135664 -1.108503 -0.556097 -0.555859  0.772028  2.070498  \n",
       "1237 -0.012964 -1.270488  0.463892 -0.560994  0.262002  0.832064  0.424645  \n",
       "1399  0.799349  0.382941  0.160759 -1.184224 -1.324968 -0.477314 -0.314100  \n",
       "618   0.603153 -1.536742  2.061987 -0.800639  0.519276 -0.269930  1.053904  \n",
       "\n",
       "[90 rows x 180 columns]"
      ]
     },
     "execution_count": 24,
     "metadata": {},
     "output_type": "execute_result"
    }
   ],
   "source": [
    "data_2"
   ]
  },
  {
   "cell_type": "code",
   "execution_count": null,
   "metadata": {},
   "outputs": [],
   "source": [
    "help(optimalShrinkage)"
   ]
  }
 ],
 "metadata": {
  "kernelspec": {
   "display_name": "Python 3 (ipykernel)",
   "language": "python",
   "name": "python3"
  },
  "language_info": {
   "codemirror_mode": {
    "name": "ipython",
    "version": 3
   },
   "file_extension": ".py",
   "mimetype": "text/x-python",
   "name": "python",
   "nbconvert_exporter": "python",
   "pygments_lexer": "ipython3",
   "version": "3.9.7"
  }
 },
 "nbformat": 4,
 "nbformat_minor": 4
}
