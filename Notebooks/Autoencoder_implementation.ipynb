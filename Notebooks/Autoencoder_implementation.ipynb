{
 "cells": [
  {
   "cell_type": "code",
   "execution_count": 41,
   "metadata": {},
   "outputs": [],
   "source": [
    "import numpy as np\n",
    "from scipy.stats import ortho_group  # Requires version 0.18 of scipy\n",
    "from numpy import linalg as LA\n",
    "import pandas as pd"
   ]
  },
  {
   "cell_type": "code",
   "execution_count": 3,
   "metadata": {},
   "outputs": [],
   "source": [
    "% matplotlib inline\n"
   ]
  },
  {
   "cell_type": "markdown",
   "metadata": {},
   "source": [
    "# Create a random correlation Matrix with specific eigen values"
   ]
  },
  {
   "cell_type": "code",
   "execution_count": 21,
   "metadata": {},
   "outputs": [],
   "source": [
    "# normalization of the eigenvalues to have a trace(Matrix) = n, with n is the  size of the matrix ()\n",
    "#  => because the correlation matrix trace remains invariant by the diagonalization\n",
    "\n",
    "def normalaized_eigenvalues (input_eigenvalues):\n",
    "    n = len(input_eigenvalues)\n",
    "    return  n * input_eigenvalues / np.sum(input_eigenvalues)\n",
    "\n",
    "# generate a random symmetric matrix with specific eigenvalues\n",
    "def generate_wge(eigenvalues):\n",
    "    n = len(eigenvalues)\n",
    "    ortho_matrix = ortho_group.rvs(dim=n)\n",
    "    diag_matrix = np.diag(eigenvalues)\n",
    "    return ortho_matrix.T.dot(diag_matrix).dot(ortho_matrix)\n",
    "# Givens rotation, to it will be used to transform the matrix in generate_corr_wse function, to have 1's in diagonal\n",
    "\n",
    "def givens(M, i, j):\n",
    "    G = M\n",
    "    Mii, Mij, Mjj = M[i,i], M[i,j], M[j,j]\n",
    "    t = (Mij + np.sqrt(Mij**2 - (Mii-1)*(Mjj-1))) /(Mjj - 1)\n",
    "    c = 1. / np.sqrt(1+t**2)\n",
    "    s = c*t\n",
    "    Mi, Mj = M[i], M[j]\n",
    "    G[i], G[j] = c*Mi - s*Mj, s*Mi + c*Mj\n",
    "    Mi, Mj = G[:,i], G[:,j]\n",
    "    G[:,i], G[:,j] = c*Mi - s*Mj, s*Mi + c*Mj\n",
    "    return G\n",
    "    \n",
    "def generate_corr_wse(eigs):\n",
    "    n = len(eigs)\n",
    "    eigen = normalaized_eigenvalues (eigs)\n",
    "    print(\" normalized eigenvalues are : \", eigen )\n",
    "    corr = generate_wge(eigen)\n",
    "    precision = 0.01\n",
    "    converg = 0\n",
    "    i = 0\n",
    "    while(not converg):\n",
    "        vec = np.diagonal(corr)\n",
    "        if np.sum(abs(vec-1)>precision)==0:\n",
    "            converg = 1\n",
    "        else:\n",
    "            bigger = np.arange(len(vec))[(vec>1)]\n",
    "            smaller = np.arange(len(vec))[(vec<1)]\n",
    "            i,j = smaller[0], bigger[-1]\n",
    "            if i>j:\n",
    "                i,j = bigger[0], smaller[-1]\n",
    "            corr = givens(corr, i, j)\n",
    "            corr[i,i]=1\n",
    "    return corr\n",
    "def get_random_eigen_values (min,max,size):\n",
    "     return np.random.randint(min,max,size)"
   ]
  },
  {
   "cell_type": "markdown",
   "metadata": {},
   "source": [
    "# Some Tests "
   ]
  },
  {
   "cell_type": "code",
   "execution_count": 22,
   "metadata": {},
   "outputs": [
    {
     "data": {
      "text/plain": [
       "array([[ 2.41346484, -0.58732882, -0.06825618],\n",
       "       [-0.58732882,  2.00027155,  0.69232971],\n",
       "       [-0.06825618,  0.69232971,  1.58626361]])"
      ]
     },
     "execution_count": 22,
     "metadata": {},
     "output_type": "execute_result"
    }
   ],
   "source": [
    "# Generate a symmetric matrix with specific eigen values\n",
    "a = generate_wge([1,2,3])\n",
    "a"
   ]
  },
  {
   "cell_type": "code",
   "execution_count": 29,
   "metadata": {},
   "outputs": [
    {
     "data": {
      "text/plain": [
       "array([3., 2., 1.])"
      ]
     },
     "execution_count": 29,
     "metadata": {},
     "output_type": "execute_result"
    }
   ],
   "source": [
    "# diagonalized matrix\n",
    "LA.eig(a)[0]"
   ]
  },
  {
   "cell_type": "code",
   "execution_count": 32,
   "metadata": {},
   "outputs": [
    {
     "name": "stdout",
     "output_type": "stream",
     "text": [
      " normalized eigenvalues are :  [1.25 1.   0.75]\n"
     ]
    }
   ],
   "source": [
    "a = generate_corr_wse(np.array([5,4,3]))"
   ]
  },
  {
   "cell_type": "code",
   "execution_count": 33,
   "metadata": {},
   "outputs": [
    {
     "data": {
      "text/plain": [
       "array([0.75, 1.25, 1.  ])"
      ]
     },
     "execution_count": 33,
     "metadata": {},
     "output_type": "execute_result"
    }
   ],
   "source": [
    "LA.eig(a)[0]"
   ]
  },
  {
   "cell_type": "code",
   "execution_count": 9,
   "metadata": {},
   "outputs": [
    {
     "data": {
      "text/plain": [
       "array([[ 2.71547166, -0.41310517, -0.41626587],\n",
       "       [-0.41310517,  1.12426291, -0.06178004],\n",
       "       [-0.41626587, -0.06178004,  2.16026543]])"
      ]
     },
     "execution_count": 9,
     "metadata": {},
     "output_type": "execute_result"
    }
   ],
   "source": [
    "generate_wge([1,2,3])"
   ]
  },
  {
   "cell_type": "code",
   "execution_count": 19,
   "metadata": {},
   "outputs": [
    {
     "name": "stdout",
     "output_type": "stream",
     "text": [
      " normalized eigenvalues are :  [1.25 1.   0.75]\n"
     ]
    },
    {
     "data": {
      "text/plain": [
       "array([[ 1.00000000e+00, -7.29173880e-02, -4.70110062e-16],\n",
       "       [-7.29173880e-02,  1.00000000e+00, -2.39129786e-01],\n",
       "       [-4.54497551e-16, -2.39129786e-01,  1.00000000e+00]])"
      ]
     },
     "execution_count": 19,
     "metadata": {},
     "output_type": "execute_result"
    }
   ],
   "source": [
    "a = generate_corr_wse(np.array([5,4,3]))\n",
    "a"
   ]
  },
  {
   "cell_type": "code",
   "execution_count": 62,
   "metadata": {},
   "outputs": [
    {
     "name": "stdout",
     "output_type": "stream",
     "text": [
      " normalized eigenvalues are :  [1.23529412 1.41176471 0.35294118]\n"
     ]
    },
    {
     "data": {
      "text/plain": [
       "array([[ 1.        , -0.38933062, -0.23981311],\n",
       "       [-0.38933062,  1.        , -0.33572406],\n",
       "       [-0.23981311, -0.33572406,  1.        ]])"
      ]
     },
     "execution_count": 62,
     "metadata": {},
     "output_type": "execute_result"
    }
   ],
   "source": [
    "generate_corr_wse(get_random_eigen_values (0,10,3))"
   ]
  },
  {
   "cell_type": "markdown",
   "metadata": {},
   "source": [
    "# Simalting Data from a correlation Matrix "
   ]
  },
  {
   "cell_type": "code",
   "execution_count": null,
   "metadata": {},
   "outputs": [],
   "source": [
    "# Data_parameters \n",
    "num_variables\n",
    "# ratio_q= \n",
    "ratio_q =\n",
    "num_samples = 2000\n",
    "\n",
    "\n",
    "# The desired mean values of the sample.\n",
    "mu = np.array([5.0, 0.0, 10.0])\n",
    "\n",
    "# The desired covariance matrix.\n",
    "r = generate_corr_wse(get_random_eigen_values (0,10,180))\n",
    "\n",
    "# Generate the random samples.\n",
    "y = np.random.multivariate_normal(mu, r, size=num_samples)\n",
    "df = pd.DataFrame(y)\n"
   ]
  },
  {
   "cell_type": "code",
   "execution_count": null,
   "metadata": {},
   "outputs": [],
   "source": []
  },
  {
   "cell_type": "code",
   "execution_count": null,
   "metadata": {},
   "outputs": [],
   "source": []
  },
  {
   "cell_type": "code",
   "execution_count": 53,
   "metadata": {},
   "outputs": [
    {
     "name": "stdout",
     "output_type": "stream",
     "text": [
      " normalized eigenvalues are :  [1.92857143 0.21428571 0.85714286]\n"
     ]
    }
   ],
   "source": [
    "import numpy as np\n",
    "import matplotlib.pyplot as plt\n",
    "\n",
    "\n",
    "num_samples = 2000\n",
    "\n",
    "# The desired mean values of the sample.\n",
    "mu = np.array([5.0, 0.0, 10.0])\n",
    "\n",
    "# The desired covariance matrix.\n",
    "r = generate_corr_wse(get_random_eigen_values (0,10,180))\n",
    "\n",
    "# Generate the random samples.\n",
    "y = np.random.multivariate_normal(mu, r, size=num_samples)\n",
    "df = pd.DataFrame(y)\n"
   ]
  },
  {
   "cell_type": "code",
   "execution_count": 60,
   "metadata": {},
   "outputs": [
    {
     "data": {
      "text/plain": [
       "(3, 2000)"
      ]
     },
     "execution_count": 60,
     "metadata": {},
     "output_type": "execute_result"
    }
   ],
   "source": [
    "y.T.shape"
   ]
  },
  {
   "cell_type": "code",
   "execution_count": 54,
   "metadata": {},
   "outputs": [
    {
     "data": {
      "text/plain": [
       "array([[ 1.        , -0.21442942,  0.77888226],\n",
       "       [-0.21442942,  1.        , -0.31202957],\n",
       "       [ 0.77888226, -0.31202957,  1.        ]])"
      ]
     },
     "execution_count": 54,
     "metadata": {},
     "output_type": "execute_result"
    }
   ],
   "source": [
    "r"
   ]
  },
  {
   "cell_type": "code",
   "execution_count": 61,
   "metadata": {},
   "outputs": [
    {
     "data": {
      "text/plain": [
       "array([[ 1.        , -0.2007415 ,  0.7770185 ],\n",
       "       [-0.2007415 ,  1.        , -0.27716901],\n",
       "       [ 0.7770185 , -0.27716901,  1.        ]])"
      ]
     },
     "execution_count": 61,
     "metadata": {},
     "output_type": "execute_result"
    }
   ],
   "source": [
    "np.corrcoef(y.T)"
   ]
  },
  {
   "cell_type": "code",
   "execution_count": 55,
   "metadata": {},
   "outputs": [
    {
     "data": {
      "text/html": [
       "<div>\n",
       "<style scoped>\n",
       "    .dataframe tbody tr th:only-of-type {\n",
       "        vertical-align: middle;\n",
       "    }\n",
       "\n",
       "    .dataframe tbody tr th {\n",
       "        vertical-align: top;\n",
       "    }\n",
       "\n",
       "    .dataframe thead th {\n",
       "        text-align: right;\n",
       "    }\n",
       "</style>\n",
       "<table border=\"1\" class=\"dataframe\">\n",
       "  <thead>\n",
       "    <tr style=\"text-align: right;\">\n",
       "      <th></th>\n",
       "      <th>0</th>\n",
       "      <th>1</th>\n",
       "      <th>2</th>\n",
       "    </tr>\n",
       "  </thead>\n",
       "  <tbody>\n",
       "    <tr>\n",
       "      <th>0</th>\n",
       "      <td>1.000000</td>\n",
       "      <td>-0.200742</td>\n",
       "      <td>0.777019</td>\n",
       "    </tr>\n",
       "    <tr>\n",
       "      <th>1</th>\n",
       "      <td>-0.200742</td>\n",
       "      <td>1.000000</td>\n",
       "      <td>-0.277169</td>\n",
       "    </tr>\n",
       "    <tr>\n",
       "      <th>2</th>\n",
       "      <td>0.777019</td>\n",
       "      <td>-0.277169</td>\n",
       "      <td>1.000000</td>\n",
       "    </tr>\n",
       "  </tbody>\n",
       "</table>\n",
       "</div>"
      ],
      "text/plain": [
       "          0         1         2\n",
       "0  1.000000 -0.200742  0.777019\n",
       "1 -0.200742  1.000000 -0.277169\n",
       "2  0.777019 -0.277169  1.000000"
      ]
     },
     "execution_count": 55,
     "metadata": {},
     "output_type": "execute_result"
    }
   ],
   "source": [
    "df.corr()"
   ]
  },
  {
   "cell_type": "code",
   "execution_count": 50,
   "metadata": {},
   "outputs": [],
   "source": [
    "df = pd.DataFrame(y)"
   ]
  },
  {
   "cell_type": "code",
   "execution_count": 43,
   "metadata": {},
   "outputs": [
    {
     "data": {
      "text/html": [
       "<div>\n",
       "<style scoped>\n",
       "    .dataframe tbody tr th:only-of-type {\n",
       "        vertical-align: middle;\n",
       "    }\n",
       "\n",
       "    .dataframe tbody tr th {\n",
       "        vertical-align: top;\n",
       "    }\n",
       "\n",
       "    .dataframe thead th {\n",
       "        text-align: right;\n",
       "    }\n",
       "</style>\n",
       "<table border=\"1\" class=\"dataframe\">\n",
       "  <thead>\n",
       "    <tr style=\"text-align: right;\">\n",
       "      <th></th>\n",
       "      <th>0</th>\n",
       "      <th>1</th>\n",
       "      <th>2</th>\n",
       "    </tr>\n",
       "  </thead>\n",
       "  <tbody>\n",
       "    <tr>\n",
       "      <th>0</th>\n",
       "      <td>6.045916</td>\n",
       "      <td>2.349009</td>\n",
       "      <td>9.094163</td>\n",
       "    </tr>\n",
       "    <tr>\n",
       "      <th>1</th>\n",
       "      <td>3.080840</td>\n",
       "      <td>3.028084</td>\n",
       "      <td>11.342436</td>\n",
       "    </tr>\n",
       "    <tr>\n",
       "      <th>2</th>\n",
       "      <td>3.136476</td>\n",
       "      <td>-0.540207</td>\n",
       "      <td>11.026878</td>\n",
       "    </tr>\n",
       "    <tr>\n",
       "      <th>3</th>\n",
       "      <td>2.640174</td>\n",
       "      <td>1.445600</td>\n",
       "      <td>11.048353</td>\n",
       "    </tr>\n",
       "    <tr>\n",
       "      <th>4</th>\n",
       "      <td>8.613134</td>\n",
       "      <td>-1.919974</td>\n",
       "      <td>8.196572</td>\n",
       "    </tr>\n",
       "    <tr>\n",
       "      <th>5</th>\n",
       "      <td>4.118461</td>\n",
       "      <td>-0.215154</td>\n",
       "      <td>10.722009</td>\n",
       "    </tr>\n",
       "    <tr>\n",
       "      <th>6</th>\n",
       "      <td>6.850787</td>\n",
       "      <td>-0.319419</td>\n",
       "      <td>8.861068</td>\n",
       "    </tr>\n",
       "    <tr>\n",
       "      <th>7</th>\n",
       "      <td>5.989150</td>\n",
       "      <td>-0.560716</td>\n",
       "      <td>9.723047</td>\n",
       "    </tr>\n",
       "    <tr>\n",
       "      <th>8</th>\n",
       "      <td>5.991146</td>\n",
       "      <td>-1.252356</td>\n",
       "      <td>9.197092</td>\n",
       "    </tr>\n",
       "    <tr>\n",
       "      <th>9</th>\n",
       "      <td>3.371414</td>\n",
       "      <td>1.898397</td>\n",
       "      <td>10.997089</td>\n",
       "    </tr>\n",
       "    <tr>\n",
       "      <th>10</th>\n",
       "      <td>1.694724</td>\n",
       "      <td>6.104710</td>\n",
       "      <td>11.787754</td>\n",
       "    </tr>\n",
       "    <tr>\n",
       "      <th>11</th>\n",
       "      <td>6.337210</td>\n",
       "      <td>-1.369836</td>\n",
       "      <td>9.404020</td>\n",
       "    </tr>\n",
       "    <tr>\n",
       "      <th>12</th>\n",
       "      <td>1.601226</td>\n",
       "      <td>0.477797</td>\n",
       "      <td>12.073851</td>\n",
       "    </tr>\n",
       "    <tr>\n",
       "      <th>13</th>\n",
       "      <td>4.228672</td>\n",
       "      <td>0.506573</td>\n",
       "      <td>10.354736</td>\n",
       "    </tr>\n",
       "    <tr>\n",
       "      <th>14</th>\n",
       "      <td>4.782402</td>\n",
       "      <td>-1.373353</td>\n",
       "      <td>10.189990</td>\n",
       "    </tr>\n",
       "    <tr>\n",
       "      <th>15</th>\n",
       "      <td>7.537175</td>\n",
       "      <td>-3.064678</td>\n",
       "      <td>8.512241</td>\n",
       "    </tr>\n",
       "    <tr>\n",
       "      <th>16</th>\n",
       "      <td>2.983735</td>\n",
       "      <td>1.871716</td>\n",
       "      <td>10.976804</td>\n",
       "    </tr>\n",
       "    <tr>\n",
       "      <th>17</th>\n",
       "      <td>7.305055</td>\n",
       "      <td>-2.376790</td>\n",
       "      <td>8.922293</td>\n",
       "    </tr>\n",
       "    <tr>\n",
       "      <th>18</th>\n",
       "      <td>4.818540</td>\n",
       "      <td>-4.229702</td>\n",
       "      <td>10.052341</td>\n",
       "    </tr>\n",
       "    <tr>\n",
       "      <th>19</th>\n",
       "      <td>6.204047</td>\n",
       "      <td>1.621497</td>\n",
       "      <td>8.867916</td>\n",
       "    </tr>\n",
       "  </tbody>\n",
       "</table>\n",
       "</div>"
      ],
      "text/plain": [
       "           0         1          2\n",
       "0   6.045916  2.349009   9.094163\n",
       "1   3.080840  3.028084  11.342436\n",
       "2   3.136476 -0.540207  11.026878\n",
       "3   2.640174  1.445600  11.048353\n",
       "4   8.613134 -1.919974   8.196572\n",
       "5   4.118461 -0.215154  10.722009\n",
       "6   6.850787 -0.319419   8.861068\n",
       "7   5.989150 -0.560716   9.723047\n",
       "8   5.991146 -1.252356   9.197092\n",
       "9   3.371414  1.898397  10.997089\n",
       "10  1.694724  6.104710  11.787754\n",
       "11  6.337210 -1.369836   9.404020\n",
       "12  1.601226  0.477797  12.073851\n",
       "13  4.228672  0.506573  10.354736\n",
       "14  4.782402 -1.373353  10.189990\n",
       "15  7.537175 -3.064678   8.512241\n",
       "16  2.983735  1.871716  10.976804\n",
       "17  7.305055 -2.376790   8.922293\n",
       "18  4.818540 -4.229702  10.052341\n",
       "19  6.204047  1.621497   8.867916"
      ]
     },
     "execution_count": 43,
     "metadata": {},
     "output_type": "execute_result"
    }
   ],
   "source": [
    "df"
   ]
  },
  {
   "cell_type": "code",
   "execution_count": 44,
   "metadata": {},
   "outputs": [
    {
     "data": {
      "text/html": [
       "<div>\n",
       "<style scoped>\n",
       "    .dataframe tbody tr th:only-of-type {\n",
       "        vertical-align: middle;\n",
       "    }\n",
       "\n",
       "    .dataframe tbody tr th {\n",
       "        vertical-align: top;\n",
       "    }\n",
       "\n",
       "    .dataframe thead th {\n",
       "        text-align: right;\n",
       "    }\n",
       "</style>\n",
       "<table border=\"1\" class=\"dataframe\">\n",
       "  <thead>\n",
       "    <tr style=\"text-align: right;\">\n",
       "      <th></th>\n",
       "      <th>0</th>\n",
       "      <th>1</th>\n",
       "      <th>2</th>\n",
       "    </tr>\n",
       "  </thead>\n",
       "  <tbody>\n",
       "    <tr>\n",
       "      <th>0</th>\n",
       "      <td>1.000000</td>\n",
       "      <td>-0.612674</td>\n",
       "      <td>-0.982789</td>\n",
       "    </tr>\n",
       "    <tr>\n",
       "      <th>1</th>\n",
       "      <td>-0.612674</td>\n",
       "      <td>1.000000</td>\n",
       "      <td>0.560523</td>\n",
       "    </tr>\n",
       "    <tr>\n",
       "      <th>2</th>\n",
       "      <td>-0.982789</td>\n",
       "      <td>0.560523</td>\n",
       "      <td>1.000000</td>\n",
       "    </tr>\n",
       "  </tbody>\n",
       "</table>\n",
       "</div>"
      ],
      "text/plain": [
       "          0         1         2\n",
       "0  1.000000 -0.612674 -0.982789\n",
       "1 -0.612674  1.000000  0.560523\n",
       "2 -0.982789  0.560523  1.000000"
      ]
     },
     "execution_count": 44,
     "metadata": {},
     "output_type": "execute_result"
    }
   ],
   "source": [
    "df.corr()"
   ]
  },
  {
   "cell_type": "code",
   "execution_count": 40,
   "metadata": {},
   "outputs": [
    {
     "data": {
      "text/plain": [
       "array([[ 6.04591555,  2.34900943,  9.09416256],\n",
       "       [ 3.08083992,  3.02808421, 11.3424363 ],\n",
       "       [ 3.13647607, -0.54020728, 11.02687769],\n",
       "       [ 2.64017412,  1.44559991, 11.04835338],\n",
       "       [ 8.6131345 , -1.91997374,  8.19657194],\n",
       "       [ 4.11846139, -0.21515359, 10.72200905],\n",
       "       [ 6.85078718, -0.31941862,  8.86106799],\n",
       "       [ 5.98915009, -0.56071614,  9.72304737],\n",
       "       [ 5.99114563, -1.25235569,  9.19709176],\n",
       "       [ 3.37141423,  1.89839698, 10.99708941],\n",
       "       [ 1.69472439,  6.10471039, 11.78775421],\n",
       "       [ 6.3372102 , -1.36983564,  9.40401965],\n",
       "       [ 1.60122621,  0.47779742, 12.0738508 ],\n",
       "       [ 4.22867227,  0.50657321, 10.35473571],\n",
       "       [ 4.78240159, -1.37335302, 10.18998961],\n",
       "       [ 7.53717541, -3.06467837,  8.51224057],\n",
       "       [ 2.98373504,  1.87171636, 10.97680354],\n",
       "       [ 7.30505512, -2.37678952,  8.92229295],\n",
       "       [ 4.81853956, -4.22970186, 10.05234112],\n",
       "       [ 6.20404687,  1.62149686,  8.86791646]])"
      ]
     },
     "execution_count": 40,
     "metadata": {},
     "output_type": "execute_result"
    }
   ],
   "source": [
    "y"
   ]
  },
  {
   "cell_type": "code",
   "execution_count": 52,
   "metadata": {},
   "outputs": [
    {
     "data": {
      "text/plain": [
       "array([[4, 0, 0],\n",
       "       [0, 2, 0],\n",
       "       [0, 0, 1]])"
      ]
     },
     "execution_count": 52,
     "metadata": {},
     "output_type": "execute_result"
    }
   ],
   "source": [
    "np.diag(np.array([4,2,1]))"
   ]
  },
  {
   "cell_type": "code",
   "execution_count": 54,
   "metadata": {},
   "outputs": [
    {
     "data": {
      "text/plain": [
       "array([4., 2., 1.])"
      ]
     },
     "execution_count": 54,
     "metadata": {},
     "output_type": "execute_result"
    }
   ],
   "source": [
    "LA.eig(generate_wge([4,2,1]))[0]"
   ]
  },
  {
   "cell_type": "code",
   "execution_count": 46,
   "metadata": {},
   "outputs": [
    {
     "data": {
      "text/plain": [
       "array([57.59690196, 17.40454622,  3.19516597])"
      ]
     },
     "execution_count": 46,
     "metadata": {},
     "output_type": "execute_result"
    }
   ],
   "source": [
    "LA.eig(np.array([[ 20.95383809,  -6.3073407,  -17.32919109],\n",
    " [ -6.3073407,   27.23848074,  20.84595533],\n",
    " [-17.32919109,  20.84595533 , 30.00429532]]))[0]"
   ]
  },
  {
   "cell_type": "code",
   "execution_count": 60,
   "metadata": {},
   "outputs": [
    {
     "ename": "IndexError",
     "evalue": "index 0 is out of bounds for axis 0 with size 0",
     "output_type": "error",
     "traceback": [
      "\u001b[1;31m---------------------------------------------------------------------------\u001b[0m",
      "\u001b[1;31mIndexError\u001b[0m                                Traceback (most recent call last)",
      "\u001b[1;32m<ipython-input-60-9422b826d277>\u001b[0m in \u001b[0;36m<module>\u001b[1;34m()\u001b[0m\n\u001b[1;32m----> 1\u001b[1;33m \u001b[0mLA\u001b[0m\u001b[1;33m.\u001b[0m\u001b[0meig\u001b[0m\u001b[1;33m(\u001b[0m\u001b[0mgenerate_corr_wse\u001b[0m\u001b[1;33m(\u001b[0m\u001b[0mnp\u001b[0m\u001b[1;33m.\u001b[0m\u001b[0marray\u001b[0m\u001b[1;33m(\u001b[0m\u001b[1;33m[\u001b[0m\u001b[1;36m4\u001b[0m\u001b[1;33m,\u001b[0m\u001b[1;36m2\u001b[0m\u001b[1;33m,\u001b[0m\u001b[1;36m1\u001b[0m\u001b[1;33m]\u001b[0m\u001b[1;33m)\u001b[0m\u001b[1;33m)\u001b[0m\u001b[1;33m)\u001b[0m\u001b[1;33m[\u001b[0m\u001b[1;36m0\u001b[0m\u001b[1;33m]\u001b[0m\u001b[1;33m\u001b[0m\u001b[0m\n\u001b[0m",
      "\u001b[1;32m<ipython-input-59-1c06ee5ea999>\u001b[0m in \u001b[0;36mgenerate_corr_wse\u001b[1;34m(eigs)\u001b[0m\n\u001b[0;32m     32\u001b[0m             \u001b[0mbigger\u001b[0m \u001b[1;33m=\u001b[0m \u001b[0mnp\u001b[0m\u001b[1;33m.\u001b[0m\u001b[0marange\u001b[0m\u001b[1;33m(\u001b[0m\u001b[0mlen\u001b[0m\u001b[1;33m(\u001b[0m\u001b[0mvec\u001b[0m\u001b[1;33m)\u001b[0m\u001b[1;33m)\u001b[0m\u001b[1;33m[\u001b[0m\u001b[1;33m(\u001b[0m\u001b[0mvec\u001b[0m\u001b[1;33m>\u001b[0m\u001b[1;36m1\u001b[0m\u001b[1;33m)\u001b[0m\u001b[1;33m]\u001b[0m\u001b[1;33m\u001b[0m\u001b[0m\n\u001b[0;32m     33\u001b[0m             \u001b[0msmaller\u001b[0m \u001b[1;33m=\u001b[0m \u001b[0mnp\u001b[0m\u001b[1;33m.\u001b[0m\u001b[0marange\u001b[0m\u001b[1;33m(\u001b[0m\u001b[0mlen\u001b[0m\u001b[1;33m(\u001b[0m\u001b[0mvec\u001b[0m\u001b[1;33m)\u001b[0m\u001b[1;33m)\u001b[0m\u001b[1;33m[\u001b[0m\u001b[1;33m(\u001b[0m\u001b[0mvec\u001b[0m\u001b[1;33m<\u001b[0m\u001b[1;36m1\u001b[0m\u001b[1;33m)\u001b[0m\u001b[1;33m]\u001b[0m\u001b[1;33m\u001b[0m\u001b[0m\n\u001b[1;32m---> 34\u001b[1;33m             \u001b[0mi\u001b[0m\u001b[1;33m,\u001b[0m\u001b[0mj\u001b[0m \u001b[1;33m=\u001b[0m \u001b[0msmaller\u001b[0m\u001b[1;33m[\u001b[0m\u001b[1;36m0\u001b[0m\u001b[1;33m]\u001b[0m\u001b[1;33m,\u001b[0m \u001b[0mbigger\u001b[0m\u001b[1;33m[\u001b[0m\u001b[1;33m-\u001b[0m\u001b[1;36m1\u001b[0m\u001b[1;33m]\u001b[0m\u001b[1;33m\u001b[0m\u001b[0m\n\u001b[0m\u001b[0;32m     35\u001b[0m             \u001b[1;32mif\u001b[0m \u001b[0mi\u001b[0m\u001b[1;33m>\u001b[0m\u001b[0mj\u001b[0m\u001b[1;33m:\u001b[0m\u001b[1;33m\u001b[0m\u001b[0m\n\u001b[0;32m     36\u001b[0m                 \u001b[0mi\u001b[0m\u001b[1;33m,\u001b[0m\u001b[0mj\u001b[0m \u001b[1;33m=\u001b[0m \u001b[0mbigger\u001b[0m\u001b[1;33m[\u001b[0m\u001b[1;36m0\u001b[0m\u001b[1;33m]\u001b[0m\u001b[1;33m,\u001b[0m \u001b[0msmaller\u001b[0m\u001b[1;33m[\u001b[0m\u001b[1;33m-\u001b[0m\u001b[1;36m1\u001b[0m\u001b[1;33m]\u001b[0m\u001b[1;33m\u001b[0m\u001b[0m\n",
      "\u001b[1;31mIndexError\u001b[0m: index 0 is out of bounds for axis 0 with size 0"
     ]
    }
   ],
   "source": [
    "LA.eig(generate_corr_wse(np.array([4,2,1])))[0]"
   ]
  },
  {
   "cell_type": "code",
   "execution_count": 30,
   "metadata": {},
   "outputs": [],
   "source": [
    "test = np.array([1,2,3])"
   ]
  },
  {
   "cell_type": "code",
   "execution_count": 33,
   "metadata": {},
   "outputs": [
    {
     "data": {
      "text/plain": [
       "array([0.5, 1. , 1.5])"
      ]
     },
     "execution_count": 33,
     "metadata": {},
     "output_type": "execute_result"
    }
   ],
   "source": [
    "3*test/np.sum(test)"
   ]
  },
  {
   "cell_type": "code",
   "execution_count": 20,
   "metadata": {},
   "outputs": [],
   "source": [
    "m = get_random_matrix ([4,2,1])"
   ]
  },
  {
   "cell_type": "code",
   "execution_count": 21,
   "metadata": {},
   "outputs": [
    {
     "data": {
      "text/plain": [
       "array([[ 2.19131114, -0.20842116, -0.99970417],\n",
       "       [-0.20842116,  2.2269138 ,  1.11529197],\n",
       "       [-0.99970417,  1.11529197,  2.58177506]])"
      ]
     },
     "execution_count": 21,
     "metadata": {},
     "output_type": "execute_result"
    }
   ],
   "source": [
    "m"
   ]
  },
  {
   "cell_type": "code",
   "execution_count": 23,
   "metadata": {},
   "outputs": [
    {
     "data": {
      "text/plain": [
       "array([[ 2.19131114, -0.2595616 , -1.26953361],\n",
       "       [-0.2595616 ,  3.4538276 ,  1.76384288],\n",
       "       [-1.26953361,  1.76384288,  4.16355012]])"
      ]
     },
     "execution_count": 23,
     "metadata": {},
     "output_type": "execute_result"
    }
   ],
   "source": [
    "givens(m, 2, 2)"
   ]
  },
  {
   "cell_type": "code",
   "execution_count": 17,
   "metadata": {},
   "outputs": [],
   "source": [
    "def givens(M, i, j):\n",
    "    G = M\n",
    "    Mii, Mij, Mjj = M[i,i], M[i,j], M[j,j]\n",
    "    t = (Mij + np.sqrt(Mij**2 - (Mii-1)*(Mjj-1))) /(Mjj - 1)\n",
    "    c = 1. / np.sqrt(1+t**2)\n",
    "    s = c*t\n",
    "    Mi, Mj = M[i], M[j]\n",
    "    G[i], G[j] = c*Mi - s*Mj, s*Mi + c*Mj\n",
    "    Mi, Mj = G[:,i], G[:,j]\n",
    "    G[:,i], G[:,j] = c*Mi - s*Mj, s*Mi + c*Mj\n",
    "    return G"
   ]
  },
  {
   "cell_type": "code",
   "execution_count": null,
   "metadata": {},
   "outputs": [],
   "source": []
  },
  {
   "cell_type": "code",
   "execution_count": 16,
   "metadata": {},
   "outputs": [
    {
     "data": {
      "text/plain": [
       "array([4., 2., 1.])"
      ]
     },
     "execution_count": 16,
     "metadata": {},
     "output_type": "execute_result"
    }
   ],
   "source": [
    "LA.eig(get_random_matrix ([4,2,1]))[0]"
   ]
  },
  {
   "cell_type": "code",
   "execution_count": 7,
   "metadata": {},
   "outputs": [],
   "source": [
    "m = ortho_group.rvs(dim=3)\n"
   ]
  },
  {
   "cell_type": "code",
   "execution_count": null,
   "metadata": {},
   "outputs": [],
   "source": [
    "np.diag([4,2,1])"
   ]
  },
  {
   "cell_type": "code",
   "execution_count": 8,
   "metadata": {},
   "outputs": [
    {
     "data": {
      "text/plain": [
       "array([[ 0.4602099 , -0.51083579, -0.72612234],\n",
       "       [-0.74560827, -0.66637391, -0.00375786],\n",
       "       [-0.48194933,  0.54313222, -0.68755526]])"
      ]
     },
     "execution_count": 8,
     "metadata": {},
     "output_type": "execute_result"
    }
   ],
   "source": [
    "m"
   ]
  },
  {
   "cell_type": "code",
   "execution_count": 10,
   "metadata": {},
   "outputs": [
    {
     "data": {
      "text/plain": [
       "array([[ 1.00000000e+00, -3.66026166e-17, -2.55106808e-17],\n",
       "       [-3.66026166e-17,  1.00000000e+00,  5.72056883e-17],\n",
       "       [-2.55106808e-17,  5.72056883e-17,  1.00000000e+00]])"
      ]
     },
     "execution_count": 10,
     "metadata": {},
     "output_type": "execute_result"
    }
   ],
   "source": [
    "m.T.dot(m)"
   ]
  },
  {
   "cell_type": "markdown",
   "metadata": {},
   "source": [
    "# Problem observation"
   ]
  },
  {
   "cell_type": "code",
   "execution_count": 6,
   "metadata": {},
   "outputs": [],
   "source": [
    "def givens(M, i, j):\n",
    "    G = M\n",
    "    Mii, Mij, Mjj = M[i,i], M[i,j], M[j,j]\n",
    "    t = (Mij + np.sqrt(Mij**2 - (Mii-1)*(Mjj-1))) /(Mjj - 1)\n",
    "    c = 1. / np.sqrt(1+t**2)\n",
    "    s = c*t\n",
    "    Mi, Mj = M[i], M[j]\n",
    "    G[i], G[j] = c*Mi - s*Mj, s*Mi + c*Mj\n",
    "    Mi, Mj = G[:,i], G[:,j]\n",
    "    G[:,i], G[:,j] = c*Mi - s*Mj, s*Mi + c*Mj\n",
    "    return G"
   ]
  },
  {
   "cell_type": "code",
   "execution_count": 10,
   "metadata": {},
   "outputs": [],
   "source": [
    "def generate_corr_wse(eigs):\n",
    "    n = len(eigs)\n",
    "    eigen = n * eigs / np.sum(eigs)\n",
    "    corr = generate_wge(eigen)\n",
    "    precision = 0.1\n",
    "    converg = 0\n",
    "    i = 0\n",
    "    while(not converg):\n",
    "        vec = np.diagonal(corr)\n",
    "        if np.sum(abs(vec-1)>precision)==0:\n",
    "            converg = 1\n",
    "        else:\n",
    "            bigger = np.arange(len(vec))[(vec>1)]\n",
    "            smaller = np.arange(len(vec))[(vec<1)]\n",
    "            i,j = smaller[0], bigger[-1]\n",
    "            if i>j:\n",
    "                i,j = bigger[0], smaller[-1]\n",
    "            corr = givens(corr, i, j)\n",
    "            corr[i,i]=1\n",
    "    return corr"
   ]
  },
  {
   "cell_type": "code",
   "execution_count": 11,
   "metadata": {},
   "outputs": [
    {
     "ename": "NameError",
     "evalue": "name 'generate_wse' is not defined",
     "output_type": "error",
     "traceback": [
      "\u001b[1;31m---------------------------------------------------------------------------\u001b[0m",
      "\u001b[1;31mNameError\u001b[0m                                 Traceback (most recent call last)",
      "\u001b[1;32m<ipython-input-11-65fb5181d348>\u001b[0m in \u001b[0;36m<module>\u001b[1;34m()\u001b[0m\n\u001b[1;32m----> 1\u001b[1;33m \u001b[0mgenerate_corr_wse\u001b[0m\u001b[1;33m(\u001b[0m\u001b[1;33m[\u001b[0m\u001b[1;36m3\u001b[0m\u001b[1;33m,\u001b[0m\u001b[1;36m2\u001b[0m\u001b[1;33m,\u001b[0m\u001b[1;36m1\u001b[0m\u001b[1;33m]\u001b[0m\u001b[1;33m)\u001b[0m\u001b[1;33m\u001b[0m\u001b[0m\n\u001b[0m",
      "\u001b[1;32m<ipython-input-10-b7b662fd25ba>\u001b[0m in \u001b[0;36mgenerate_corr_wse\u001b[1;34m(eigs)\u001b[0m\n\u001b[0;32m      2\u001b[0m     \u001b[0mn\u001b[0m \u001b[1;33m=\u001b[0m \u001b[0mlen\u001b[0m\u001b[1;33m(\u001b[0m\u001b[0meigs\u001b[0m\u001b[1;33m)\u001b[0m\u001b[1;33m\u001b[0m\u001b[0m\n\u001b[0;32m      3\u001b[0m     \u001b[0meigen\u001b[0m \u001b[1;33m=\u001b[0m \u001b[0mn\u001b[0m \u001b[1;33m*\u001b[0m \u001b[0meigs\u001b[0m \u001b[1;33m/\u001b[0m \u001b[0mnp\u001b[0m\u001b[1;33m.\u001b[0m\u001b[0msum\u001b[0m\u001b[1;33m(\u001b[0m\u001b[0meigs\u001b[0m\u001b[1;33m)\u001b[0m\u001b[1;33m\u001b[0m\u001b[0m\n\u001b[1;32m----> 4\u001b[1;33m     \u001b[0mcorr\u001b[0m \u001b[1;33m=\u001b[0m \u001b[0mgenerate_wse\u001b[0m\u001b[1;33m(\u001b[0m\u001b[0meigen\u001b[0m\u001b[1;33m)\u001b[0m\u001b[1;33m\u001b[0m\u001b[0m\n\u001b[0m\u001b[0;32m      5\u001b[0m     \u001b[0mprecision\u001b[0m \u001b[1;33m=\u001b[0m \u001b[1;36m0.1\u001b[0m\u001b[1;33m\u001b[0m\u001b[0m\n\u001b[0;32m      6\u001b[0m     \u001b[0mconverg\u001b[0m \u001b[1;33m=\u001b[0m \u001b[1;36m0\u001b[0m\u001b[1;33m\u001b[0m\u001b[0m\n",
      "\u001b[1;31mNameError\u001b[0m: name 'generate_wse' is not defined"
     ]
    }
   ],
   "source": [
    "generate_corr_wse([3,2,1])"
   ]
  },
  {
   "cell_type": "code",
   "execution_count": 9,
   "metadata": {},
   "outputs": [
    {
     "data": {
      "image/png": "[encoded data removed]",
      "text/plain": [
       "<Figure size 432x288 with 3 Axes>"
      ]
     },
     "metadata": {},
     "output_type": "display_data"
    }
   ],
   "source": [
    "import numpy as np\n",
    "import matplotlib.pyplot as plt\n",
    "\n",
    "\n",
    "num_samples = 400\n",
    "\n",
    "# The desired mean values of the sample.\n",
    "mu = np.array([5.0, 0.0, 10.0])\n",
    "\n",
    "# The desired covariance matrix.\n",
    "r = np.array([\n",
    "        [  3.40, -2.75, -2.00],\n",
    "        [ -2.75,  5.50,  1.50],\n",
    "        [ -2.00,  1.50,  1.25]\n",
    "    ])\n",
    "\n",
    "# Generate the random samples.\n",
    "y = np.random.multivariate_normal(mu, r, size=num_samples)\n",
    "\n",
    "\n",
    "# Plot various projections of the samples.\n",
    "plt.subplot(2,2,1)\n",
    "plt.plot(y[:,0], y[:,1], 'b.')\n",
    "plt.plot(mu[0], mu[1], 'ro')\n",
    "plt.ylabel('y[1]')\n",
    "plt.axis('equal')\n",
    "plt.grid(True)\n",
    "\n",
    "plt.subplot(2,2,3)\n",
    "plt.plot(y[:,0], y[:,2], 'b.')\n",
    "plt.plot(mu[0], mu[2], 'ro')\n",
    "plt.xlabel('y[0]')\n",
    "plt.ylabel('y[2]')\n",
    "plt.axis('equal')\n",
    "plt.grid(True)\n",
    "\n",
    "plt.subplot(2,2,4)\n",
    "plt.plot(y[:,1], y[:,2], 'b.')\n",
    "plt.plot(mu[1], mu[2], 'ro')\n",
    "plt.xlabel('y[1]')\n",
    "plt.axis('equal')\n",
    "plt.grid(True)\n",
    "\n",
    "plt.show()"
   ]
  },
  {
   "cell_type": "code",
   "execution_count": null,
   "metadata": {},
   "outputs": [],
   "source": []
  }
 ],
 "metadata": {
  "kernelspec": {
   "display_name": "Python 3",
   "language": "python",
   "name": "python3"
  },
  "language_info": {
   "codemirror_mode": {
    "name": "ipython",
    "version": 3
   },
   "file_extension": ".py",
   "mimetype": "text/x-python",
   "name": "python",
   "nbconvert_exporter": "python",
   "pygments_lexer": "ipython3",
   "version": "3.6.5"
  }
 },
 "nbformat": 4,
 "nbformat_minor": 2
}
